{
 "cells": [
  {
   "cell_type": "markdown",
   "metadata": {},
   "source": [
    "---\n",
    "---\n",
    "# [1] Setup"
   ]
  },
  {
   "cell_type": "code",
   "execution_count": null,
   "metadata": {},
   "outputs": [],
   "source": [
    "from pprint import pp\n",
    "from pathlib import Path, PurePosixPath\n",
    "from typing import List\n",
    "\n",
    "from box_sdk_gen import AddShareLinkToFileSharedLink, UpdateSharedLinkOnFileSharedLink, AddShareLinkToFileSharedLinkPermissionsField, UpdateSharedLinkOnFileSharedLinkPermissionsField # lol"
   ]
  },
  {
   "cell_type": "markdown",
   "metadata": {},
   "source": [
    "---\n",
    "## [1.1] Authenticate"
   ]
  },
  {
   "cell_type": "code",
   "execution_count": null,
   "metadata": {},
   "outputs": [],
   "source": [
    "# ''' ———————————————————— Auth via dev token (1hr limit) ———————————————————— '''\n",
    "\n",
    "# from box_sdk_gen import BoxClient, BoxDeveloperTokenAuth\n",
    "\n",
    "# token  : str                   = 'VELK7pQGJ1Iz3yQbg9UzGAfkpViTxOTL'\n",
    "# auth   : BoxDeveloperTokenAuth = BoxDeveloperTokenAuth(token=token)\n",
    "# client : BoxClient             = BoxClient(auth=auth)\n",
    "\n",
    "# user_id = client.users.get_user_me().id\n",
    "# print(f'{user_id = }')"
   ]
  },
  {
   "cell_type": "code",
   "execution_count": null,
   "metadata": {},
   "outputs": [],
   "source": [
    "# ''' ————————————————————————— Auth via OAuth2.0 (?) ———————————————————————— '''\n",
    "\n",
    "# from box_sdk_gen import BoxOAuth, OAuthConfig\n",
    "\n",
    "# auth = BoxOAuth(\n",
    "#     OAuthConfig(client_id=\"6fzv2qd0x7r70v2i6wunvy6z8v0tw0mn\", client_secret=\"6fzv2qd0x7r70v2i6wunvy6z8v0tw0mn\")\n",
    "# )\n",
    "# auth_url = auth.get_authorize_url()\n",
    "\n",
    "# print(auth_url)"
   ]
  },
  {
   "cell_type": "code",
   "execution_count": null,
   "metadata": {},
   "outputs": [],
   "source": [
    "# ''' ————————————————————————————— Auth via JWT ————————————————————————————— '''\n",
    "\n",
    "# from box_sdk_gen import BoxClient, BoxJWTAuth, JWTConfig\n",
    "\n",
    "# fpath_jwt_config = list((Path.cwd().parent / '.secret/').glob('*.json'))[0]\n",
    "\n",
    "# jwt_config = JWTConfig.from_config_file(config_file_path=fpath_jwt_config)\n",
    "# auth = BoxJWTAuth(config=jwt_config)\n",
    "# client = BoxClient(auth=auth)\n",
    "\n",
    "# service_account = client.users.get_user_me()\n",
    "# print(f\"Service Account user ID is {service_account.id}\")"
   ]
  },
  {
   "cell_type": "code",
   "execution_count": null,
   "metadata": {},
   "outputs": [],
   "source": [
    "''' —————————————————————————— Auth via JWT (user) ————————————————————————— '''\n",
    "\n",
    "'''\n",
    "- NOTE: See /.secret/box_devconsole_app_config.png for howto setup app. Make sure app exists on a developer account (as opposed to a user account that's accessing the dev console — you should create a new account from scratch from the \"sign up for Box developer account\" page, and you should NOT see a blue textbox at the top of the dev console). Also make sure you \"Submit app for authorization for access to the Enterprise\" and approve it via the Admin Console. For context, the given example image is from my \"iliketochacha1337@gmail.com\" account.\n",
    "'''\n",
    "\n",
    "from box_sdk_gen import JWTConfig, BoxJWTAuth, BoxClient\n",
    "\n",
    "fpath_jwt_config : Path       = list((Path.cwd().parent / '.secret/').glob('*.json'))[0]\n",
    "jwt_config       : JWTConfig  = JWTConfig.from_config_file(config_file_path=fpath_jwt_config)\n",
    "auth             : BoxJWTAuth = BoxJWTAuth(config=jwt_config)\n",
    "user_auth        : BoxJWTAuth = auth.with_user_subject(user_id=\"34633045408\")\n",
    "client           : BoxClient  = BoxClient(auth=user_auth)"
   ]
  },
  {
   "cell_type": "markdown",
   "metadata": {},
   "source": [
    "---\n",
    "## [1.2] Test Access"
   ]
  },
  {
   "cell_type": "code",
   "execution_count": null,
   "metadata": {},
   "outputs": [],
   "source": [
    "this_folder_id : str = '270589643170'\n",
    "\n",
    "this_folder_dict : dict = client.folders.get_folder_by_id(\n",
    "    folder_id = this_folder_id, \n",
    "    limit     = 1_000, \n",
    "    offset    = 0,\n",
    ").to_dict()\n",
    "\n",
    "pp(this_folder_dict)"
   ]
  },
  {
   "cell_type": "markdown",
   "metadata": {},
   "source": [
    "---\n",
    "---\n",
    "# [2] First try"
   ]
  },
  {
   "cell_type": "code",
   "execution_count": null,
   "metadata": {},
   "outputs": [],
   "source": [
    "# ''' —————————————————————————— Access folder info —————————————————————————— '''\n",
    "\n",
    "# root_folder_id : str = '270589643170'\n",
    "# # shared_folder_link : str = 'https://rutgers.box.com/s/ocjo4od5xr9eb0ewjha18fbubbeh2ct2'     \n",
    "# # # ^ this makes it so it doesn't have to be directly shared in order to access/query\n",
    "# # # ^^ NVM, although you can access files from just the parent folder share id/link and file id, you don't get a download link. therefore in order to create a registry with download links, you need every file in the folder to be individually shared, and the account with the developer token needs to have the folder shared directly so it can access/modify the files.\n",
    "\n",
    "# root_folder_dict : dict = client.folders.get_folder_by_id(folder_id=root_folder_id).to_dict()\n",
    "# # shared_folder : dict = client.folders.get_folder_items(folder_id=shared_folder_id).to_dict()\n",
    "# ## optional: use 'get_folder_by_id' for more info, or 'get_folder_items' for less info\n",
    "\n",
    "# pprint.pp(root_folder_dict)"
   ]
  },
  {
   "cell_type": "code",
   "execution_count": null,
   "metadata": {},
   "outputs": [],
   "source": [
    "# subid = root_folder_dict['item_collection']['entries'][0]['id']\n",
    "# # subid = shared_folder['entries'][0]['id']\n",
    "\n",
    "# pprint.pp(\n",
    "#     client.folders.get_folder_by_id(\n",
    "#     # client.folders.get_folder_items(\n",
    "#         folder_id=subid,\n",
    "#     ).to_dict()\n",
    "# )"
   ]
  },
  {
   "cell_type": "code",
   "execution_count": null,
   "metadata": {},
   "outputs": [],
   "source": [
    "# pprint.pp(\n",
    "#     client.files.get_file_by_id(\n",
    "#         file_id='1568654968074',\n",
    "#         boxapi=f'shared_link={shared_folder_link}',\n",
    "#     ).to_dict()\n",
    "# )"
   ]
  },
  {
   "cell_type": "code",
   "execution_count": null,
   "metadata": {},
   "outputs": [],
   "source": [
    "# pprint.pp(\n",
    "#     client.shared_links_files.get_shared_link_for_file(     # file must be EXPLCIITLY shared for this to work\n",
    "#         file_id='1568654968074',\n",
    "#         fields = [\"shared_link\"],\n",
    "#     ).to_dict()\n",
    "# )"
   ]
  },
  {
   "cell_type": "code",
   "execution_count": null,
   "metadata": {},
   "outputs": [],
   "source": []
  },
  {
   "cell_type": "markdown",
   "metadata": {},
   "source": [
    "---\n",
    "---\n",
    "# [3] Recursive Approach SCRAPPING"
   ]
  },
  {
   "cell_type": "code",
   "execution_count": null,
   "metadata": {},
   "outputs": [],
   "source": [
    "# root_folder_id : str = '271398349923'\n",
    "\n",
    "# root_folder_dict : dict = client.folders.get_folder_by_id(folder_id=root_folder_id).to_dict()\n",
    "\n",
    "# pp(root_folder_dict)"
   ]
  },
  {
   "cell_type": "code",
   "execution_count": null,
   "metadata": {},
   "outputs": [],
   "source": [
    "# this_file_id : str = '1568776756351'\n",
    "\n",
    "# this_file_dict : dict = client.files.get_file_by_id(file_id=this_file_id).to_dict()\n",
    "\n",
    "# pp(this_file_dict)"
   ]
  },
  {
   "cell_type": "code",
   "execution_count": null,
   "metadata": {},
   "outputs": [],
   "source": [
    "# pp(this_file_dict.get('shared_link', None))"
   ]
  },
  {
   "cell_type": "code",
   "execution_count": null,
   "metadata": {},
   "outputs": [],
   "source": []
  },
  {
   "cell_type": "code",
   "execution_count": null,
   "metadata": {},
   "outputs": [],
   "source": [
    "# pp(client.shared_links_files.get_shared_link_for_file(\n",
    "#     file_id = this_file_id, \n",
    "#     fields = \"shared_link\"\n",
    "# ).to_dict())"
   ]
  },
  {
   "cell_type": "code",
   "execution_count": null,
   "metadata": {},
   "outputs": [],
   "source": [
    "# pp(client.shared_links_files.add_share_link_to_file(\n",
    "#     file_id = this_file_id,\n",
    "#     fields = \"shared_link\",\n",
    "#     shared_link = AddShareLinkToFileSharedLink(\n",
    "#         # access = AddShareLinkToFileSharedLinkAccessField.OPEN.value\n",
    "#         access = 'open'\n",
    "#     ),\n",
    "# ).to_dict())"
   ]
  },
  {
   "cell_type": "markdown",
   "metadata": {},
   "source": [
    "---\n",
    "---\n",
    "# [3.5] too many entries rip"
   ]
  },
  {
   "cell_type": "code",
   "execution_count": null,
   "metadata": {},
   "outputs": [],
   "source": [
    "this_folder_id : str = '271456424795'\n",
    "\n",
    "this_folder_dict : dict = client.folders.get_folder_by_id(folder_id=this_folder_id, limit=1_000, offset=22_000).to_dict()\n",
    "# this_folder_dict : dict = client.folders.get_folder_items(folder_id=this_folder_id, limit=1000, offset=20000).to_dict()\n",
    "\n",
    "pp(this_folder_dict)"
   ]
  },
  {
   "cell_type": "markdown",
   "metadata": {},
   "source": [
    "---\n",
    "---\n",
    "# [4] Recursive Approach FINAL"
   ]
  },
  {
   "cell_type": "code",
   "execution_count": null,
   "metadata": {},
   "outputs": [],
   "source": [
    "def box2registry(\n",
    "    this_folder_id : str, \n",
    "    path_stack     : List[str] = [],\n",
    "    db             : dict      = {},\n",
    ") -> dict:\n",
    "    \n",
    "    this_folder_dict : dict = client.folders.get_folder_by_id(folder_id=this_folder_id).to_dict()\n",
    "\n",
    "    path_stack.append(this_folder_dict['name'])\n",
    "\n",
    "\n",
    "    # NOTE: this_folder_dict['item_collection']['entries'] : List[dict]\n",
    "    entry : dict\n",
    "\n",
    "    for entry in this_folder_dict['item_collection']['entries']:\n",
    "        \n",
    "        match entry['type']:\n",
    "\n",
    "\n",
    "\n",
    "            case 'file':\n",
    "                this_file_id : str = entry['id']\n",
    "                this_file_dict : dict = client.files.get_file_by_id(file_id=this_file_id).to_dict()\n",
    "                filepath : PurePosixPath = PurePosixPath(*path_stack, entry['name'])\n",
    "                this_file_shareinfo_dict : dict = this_file_dict.get('shared_link', None)\n",
    "\n",
    "\n",
    "                if (this_file_shareinfo_dict is None):\n",
    "                    print(f'ACTION — adding share link:')\n",
    "                    print(f'\\t- filepath = {filepath}')\n",
    "\n",
    "                    api_response : dict = client.shared_links_files.add_share_link_to_file(\n",
    "                        file_id = this_file_id,\n",
    "                        fields = \"shared_link\",\n",
    "                        shared_link = AddShareLinkToFileSharedLink(\n",
    "                            access = 'open', # AddShareLinkToFileSharedLinkAccessField.OPEN.value\n",
    "                            password = None,\n",
    "                            unshared_at = None,\n",
    "                            permissions = AddShareLinkToFileSharedLinkPermissionsField(\n",
    "                                can_download = True,\n",
    "                                can_preview = True,\n",
    "                                can_edit = False,\n",
    "                            ),\n",
    "                        ),\n",
    "                    ).to_dict()\n",
    "                    this_file_download_url : str = api_response['shared_link']['download_url']\n",
    "                    \n",
    "                    print(f'\\t- URL = {this_file_download_url}')\n",
    "\n",
    "\n",
    "                elif not (\n",
    "                    this_file_shareinfo_dict['effective_access'] == 'open'\n",
    "                    and this_file_shareinfo_dict['effective_permission'] == 'can_download'\n",
    "                    and this_file_shareinfo_dict['is_password_enabled'] == False\n",
    "                    and this_file_shareinfo_dict['permissions'] == {'can_download':True,'can_preview':True,'can_edit':False}\n",
    "                    and this_file_shareinfo_dict.get('unshared_at') is None     # NOTE: only paid accounts can change time-until-unshare, so these warnings must be resolved manually.\n",
    "                ):\n",
    "                    print()\n",
    "                    print(f'WARNING — weird share permissions:')\n",
    "                    print(f'\\t- filepath = {filepath}')\n",
    "                    print(f'\\t- Full permissions:')\n",
    "                    print(f'\\t\\t{this_file_shareinfo_dict}')\n",
    "                    print(f'\\t- Fixing permissions...')\n",
    "\n",
    "                    api_response : dict = client.shared_links_files.update_shared_link_on_file(\n",
    "                        file_id = this_file_id,\n",
    "                        fields = \"shared_link\",\n",
    "                        shared_link = UpdateSharedLinkOnFileSharedLink(\n",
    "                            access = 'open', \n",
    "                            password = None,\n",
    "                            unshared_at = None,\n",
    "                            permissions = UpdateSharedLinkOnFileSharedLinkPermissionsField(\n",
    "                                can_download = True,\n",
    "                                can_preview = True,\n",
    "                                can_edit = False,\n",
    "                            ),\n",
    "                        ),\n",
    "                    ).to_dict()\n",
    "                    this_file_download_url : str = api_response['shared_link']['download_url']\n",
    "                    \n",
    "                    print(f'\\t- Fixed, hopefully:')\n",
    "                    print(f'\\t\\t{api_response[\"shared_link\"]}')\n",
    "                    print(f'\\t- URL = {this_file_download_url}')\n",
    "                    print()\n",
    "\n",
    "\n",
    "                else:\n",
    "                    this_file_download_url : str = this_file_dict['shared_link']['download_url']\n",
    "                    print(f'File already shared:')\n",
    "                    print(f'\\t- filepath = {filepath}')\n",
    "                    print(f'\\t- URL = {this_file_download_url}')\n",
    "\n",
    "\n",
    "                db[str(filepath)] = {\n",
    "                    'id' : this_file_id,\n",
    "                    'sha1' : entry['sha1'],\n",
    "                    'download_url' : this_file_download_url,\n",
    "                }\n",
    "            \n",
    "\n",
    "\n",
    "            case 'folder':\n",
    "                db = box2registry(\n",
    "                    this_folder_id = entry['id'],\n",
    "                    path_stack     = path_stack,\n",
    "                    db             = db,\n",
    "                )\n",
    "\n",
    "\n",
    "\n",
    "            case _:\n",
    "                print()\n",
    "                print(f'WARNING — Unrecognized entry type:')\n",
    "                print(f'\\t- Full entry:')\n",
    "                print(f'\\t\\t{entry}')\n",
    "                print()\n",
    "\n",
    "        \n",
    "    path_stack.pop()\n",
    "\n",
    "    return db"
   ]
  },
  {
   "cell_type": "code",
   "execution_count": null,
   "metadata": {},
   "outputs": [],
   "source": [
    "root_folder_id : str = '271398349923'\n",
    "redplanet_registry : dict = box2registry(root_folder_id)"
   ]
  },
  {
   "cell_type": "code",
   "execution_count": null,
   "metadata": {},
   "outputs": [],
   "source": [
    "pp(redplanet_registry)"
   ]
  }
 ],
 "metadata": {
  "kernelspec": {
   "display_name": "box1",
   "language": "python",
   "name": "python3"
  },
  "language_info": {
   "codemirror_mode": {
    "name": "ipython",
    "version": 3
   },
   "file_extension": ".py",
   "mimetype": "text/x-python",
   "name": "python",
   "nbconvert_exporter": "python",
   "pygments_lexer": "ipython3",
   "version": "3.12.4"
  }
 },
 "nbformat": 4,
 "nbformat_minor": 2
}
