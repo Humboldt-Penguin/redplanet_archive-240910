{
 "cells": [
  {
   "cell_type": "markdown",
   "metadata": {},
   "source": [
    "Written by Zain Kamal [zain.eris.kamal@rutgers.edu](mailto:zain.eris.kamal@rutgers.edu) on 03/09/2024.\n",
    "\n",
    "https://github.com/Humboldt-Penguin/redplanet"
   ]
  },
  {
   "cell_type": "markdown",
   "metadata": {},
   "source": [
    "---\n",
    "GOAL:\n",
    "\n",
    "- I just found out xarray does the "
   ]
  },
  {
   "cell_type": "markdown",
   "metadata": {},
   "source": [
    "---\n",
    "# [0] Setup"
   ]
  },
  {
   "cell_type": "code",
   "execution_count": 20,
   "metadata": {},
   "outputs": [],
   "source": [
    "from redplanet import utils\n",
    "\n",
    "from pathlib import Path\n",
    "import matplotlib.pyplot as plt\n",
    "\n",
    "import pooch\n",
    "import numpy as np\n",
    "import pandas as pd \n",
    "import xarray as xr"
   ]
  },
  {
   "cell_type": "markdown",
   "metadata": {},
   "source": [
    "---\n",
    "---\n",
    "# [1] Download"
   ]
  },
  {
   "cell_type": "code",
   "execution_count": 2,
   "metadata": {},
   "outputs": [],
   "source": [
    "with utils.disable_pooch_logger():\n",
    "    fpaths_rawdat = pooch.retrieve(\n",
    "        fname      = '2022_Mars_Odyssey_GRS_Element_Concentration_Maps.zip',\n",
    "        url        = r'https://drive.google.com/file/d/1Z5Esv-Y4JAQvC84U-VataKJHIJ9OA4_8/view?usp=sharing',\n",
    "        known_hash = 'sha256:45e047a645ae8d1bbd8e43062adab16a22786786ecb17d8e44bfc95f471ff9b7',\n",
    "        path       = pooch.os_cache('redplanet') / 'GRS',\n",
    "        downloader = utils.download_gdrive_file,\n",
    "        processor  = pooch.Unzip(),\n",
    "    )\n",
    "\n",
    "\n",
    "fpaths_rawdat = [Path(f) for f in fpaths_rawdat if 'README_EBH_SK_AR_SK.txt' not in f]"
   ]
  },
  {
   "cell_type": "markdown",
   "metadata": {},
   "source": [
    "another idea is to create a pooch object, but tbf it ends up being way more trouble than it's worth than to just download one by one:\n",
    "\n",
    "    => **THIS WAY I'M NOT UNNECESSARILY HAVING TO WRITE MORE CLASSES/CODE THAT NEED TO BE MAINTAINED/MONITORED! SIMPLE IS BETTER :))))"
   ]
  },
  {
   "cell_type": "markdown",
   "metadata": {},
   "source": [
    "---\n",
    "---\n",
    "# [2] Accessors (xarray and manual indexing)"
   ]
  },
  {
   "cell_type": "markdown",
   "metadata": {},
   "source": [
    "---\n",
    "## [2.1] xarray"
   ]
  },
  {
   "cell_type": "code",
   "execution_count": 3,
   "metadata": {},
   "outputs": [],
   "source": [
    "dfs = []\n",
    "\n",
    "for fpath_rawdat in fpaths_rawdat:\n",
    "    element = fpath_rawdat.stem.split('_')[0].lower()\n",
    "\n",
    "    df = pd.read_csv(\n",
    "        fpath_rawdat, \n",
    "        sep='\\s+', \n",
    "        na_values=9999.999, \n",
    "        header=0, \n",
    "        usecols=[0, 1, 2, 3], \n",
    "        names=['lat', 'lon', 'concentration', 'sigma']\n",
    "    )\n",
    "\n",
    "    if element == 'th':\n",
    "        scale_factor = 0.000001     # correct given \"ppm\" to concentration out of 1\n",
    "    else: \n",
    "        scale_factor = 0.01     # correct \"weight percent\" to concentration out of 1\n",
    "    df[['concentration','sigma']] *= scale_factor\n",
    "\n",
    "    df['element'] = element\n",
    "    dfs.append(df)\n",
    "\n",
    "\n",
    "all_dfs = pd.concat(dfs)\n",
    "\n",
    "# add volatiles array for speed/convenience\n",
    "volatiles_df = all_dfs[all_dfs['element'].isin(['cl', 'h2o', 's'])]\n",
    "volatiles_sum = volatiles_df.groupby(['lat', 'lon']).sum(min_count=3).reset_index()\n",
    "volatiles_sum['element'] = 'volatiles'\n",
    "dfs.append(volatiles_sum)\n",
    "all_dfs = pd.concat(dfs)\n",
    "\n",
    "\n",
    "\n",
    "\n",
    "# dat_grs = xr.Dataset.from_dataframe(all_dfs.set_index(['lat', 'lon', 'element']))\n",
    "# dat_grs = xr.Dataset.from_dataframe(all_dfs.set_index(['element', 'lon', 'lat']))\n",
    "dat_grs = xr.Dataset.from_dataframe(all_dfs.set_index(['element', 'lat', 'lon']))\n",
    "\n",
    "\n",
    "####################################################################################################################################\n",
    "\n",
    "\n",
    "def grs_get1(element, lon, lat, quantity='concentration'):\n",
    "    return dat_grs.sel(element=element).sel(lon=lon, lat=lat, method='nearest')[quantity].item()"
   ]
  },
  {
   "cell_type": "code",
   "execution_count": 4,
   "metadata": {},
   "outputs": [
    {
     "data": {
      "text/html": [
       "<div><svg style=\"position: absolute; width: 0; height: 0; overflow: hidden\">\n",
       "<defs>\n",
       "<symbol id=\"icon-database\" viewBox=\"0 0 32 32\">\n",
       "<path d=\"M16 0c-8.837 0-16 2.239-16 5v4c0 2.761 7.163 5 16 5s16-2.239 16-5v-4c0-2.761-7.163-5-16-5z\"></path>\n",
       "<path d=\"M16 17c-8.837 0-16-2.239-16-5v6c0 2.761 7.163 5 16 5s16-2.239 16-5v-6c0 2.761-7.163 5-16 5z\"></path>\n",
       "<path d=\"M16 26c-8.837 0-16-2.239-16-5v6c0 2.761 7.163 5 16 5s16-2.239 16-5v-6c0 2.761-7.163 5-16 5z\"></path>\n",
       "</symbol>\n",
       "<symbol id=\"icon-file-text2\" viewBox=\"0 0 32 32\">\n",
       "<path d=\"M28.681 7.159c-0.694-0.947-1.662-2.053-2.724-3.116s-2.169-2.030-3.116-2.724c-1.612-1.182-2.393-1.319-2.841-1.319h-15.5c-1.378 0-2.5 1.121-2.5 2.5v27c0 1.378 1.122 2.5 2.5 2.5h23c1.378 0 2.5-1.122 2.5-2.5v-19.5c0-0.448-0.137-1.23-1.319-2.841zM24.543 5.457c0.959 0.959 1.712 1.825 2.268 2.543h-4.811v-4.811c0.718 0.556 1.584 1.309 2.543 2.268zM28 29.5c0 0.271-0.229 0.5-0.5 0.5h-23c-0.271 0-0.5-0.229-0.5-0.5v-27c0-0.271 0.229-0.5 0.5-0.5 0 0 15.499-0 15.5 0v7c0 0.552 0.448 1 1 1h7v19.5z\"></path>\n",
       "<path d=\"M23 26h-14c-0.552 0-1-0.448-1-1s0.448-1 1-1h14c0.552 0 1 0.448 1 1s-0.448 1-1 1z\"></path>\n",
       "<path d=\"M23 22h-14c-0.552 0-1-0.448-1-1s0.448-1 1-1h14c0.552 0 1 0.448 1 1s-0.448 1-1 1z\"></path>\n",
       "<path d=\"M23 18h-14c-0.552 0-1-0.448-1-1s0.448-1 1-1h14c0.552 0 1 0.448 1 1s-0.448 1-1 1z\"></path>\n",
       "</symbol>\n",
       "</defs>\n",
       "</svg>\n",
       "<style>/* CSS stylesheet for displaying xarray objects in jupyterlab.\n",
       " *\n",
       " */\n",
       "\n",
       ":root {\n",
       "  --xr-font-color0: var(--jp-content-font-color0, rgba(0, 0, 0, 1));\n",
       "  --xr-font-color2: var(--jp-content-font-color2, rgba(0, 0, 0, 0.54));\n",
       "  --xr-font-color3: var(--jp-content-font-color3, rgba(0, 0, 0, 0.38));\n",
       "  --xr-border-color: var(--jp-border-color2, #e0e0e0);\n",
       "  --xr-disabled-color: var(--jp-layout-color3, #bdbdbd);\n",
       "  --xr-background-color: var(--jp-layout-color0, white);\n",
       "  --xr-background-color-row-even: var(--jp-layout-color1, white);\n",
       "  --xr-background-color-row-odd: var(--jp-layout-color2, #eeeeee);\n",
       "}\n",
       "\n",
       "html[theme=dark],\n",
       "body[data-theme=dark],\n",
       "body.vscode-dark {\n",
       "  --xr-font-color0: rgba(255, 255, 255, 1);\n",
       "  --xr-font-color2: rgba(255, 255, 255, 0.54);\n",
       "  --xr-font-color3: rgba(255, 255, 255, 0.38);\n",
       "  --xr-border-color: #1F1F1F;\n",
       "  --xr-disabled-color: #515151;\n",
       "  --xr-background-color: #111111;\n",
       "  --xr-background-color-row-even: #111111;\n",
       "  --xr-background-color-row-odd: #313131;\n",
       "}\n",
       "\n",
       ".xr-wrap {\n",
       "  display: block !important;\n",
       "  min-width: 300px;\n",
       "  max-width: 700px;\n",
       "}\n",
       "\n",
       ".xr-text-repr-fallback {\n",
       "  /* fallback to plain text repr when CSS is not injected (untrusted notebook) */\n",
       "  display: none;\n",
       "}\n",
       "\n",
       ".xr-header {\n",
       "  padding-top: 6px;\n",
       "  padding-bottom: 6px;\n",
       "  margin-bottom: 4px;\n",
       "  border-bottom: solid 1px var(--xr-border-color);\n",
       "}\n",
       "\n",
       ".xr-header > div,\n",
       ".xr-header > ul {\n",
       "  display: inline;\n",
       "  margin-top: 0;\n",
       "  margin-bottom: 0;\n",
       "}\n",
       "\n",
       ".xr-obj-type,\n",
       ".xr-array-name {\n",
       "  margin-left: 2px;\n",
       "  margin-right: 10px;\n",
       "}\n",
       "\n",
       ".xr-obj-type {\n",
       "  color: var(--xr-font-color2);\n",
       "}\n",
       "\n",
       ".xr-sections {\n",
       "  padding-left: 0 !important;\n",
       "  display: grid;\n",
       "  grid-template-columns: 150px auto auto 1fr 20px 20px;\n",
       "}\n",
       "\n",
       ".xr-section-item {\n",
       "  display: contents;\n",
       "}\n",
       "\n",
       ".xr-section-item input {\n",
       "  display: none;\n",
       "}\n",
       "\n",
       ".xr-section-item input + label {\n",
       "  color: var(--xr-disabled-color);\n",
       "}\n",
       "\n",
       ".xr-section-item input:enabled + label {\n",
       "  cursor: pointer;\n",
       "  color: var(--xr-font-color2);\n",
       "}\n",
       "\n",
       ".xr-section-item input:enabled + label:hover {\n",
       "  color: var(--xr-font-color0);\n",
       "}\n",
       "\n",
       ".xr-section-summary {\n",
       "  grid-column: 1;\n",
       "  color: var(--xr-font-color2);\n",
       "  font-weight: 500;\n",
       "}\n",
       "\n",
       ".xr-section-summary > span {\n",
       "  display: inline-block;\n",
       "  padding-left: 0.5em;\n",
       "}\n",
       "\n",
       ".xr-section-summary-in:disabled + label {\n",
       "  color: var(--xr-font-color2);\n",
       "}\n",
       "\n",
       ".xr-section-summary-in + label:before {\n",
       "  display: inline-block;\n",
       "  content: '►';\n",
       "  font-size: 11px;\n",
       "  width: 15px;\n",
       "  text-align: center;\n",
       "}\n",
       "\n",
       ".xr-section-summary-in:disabled + label:before {\n",
       "  color: var(--xr-disabled-color);\n",
       "}\n",
       "\n",
       ".xr-section-summary-in:checked + label:before {\n",
       "  content: '▼';\n",
       "}\n",
       "\n",
       ".xr-section-summary-in:checked + label > span {\n",
       "  display: none;\n",
       "}\n",
       "\n",
       ".xr-section-summary,\n",
       ".xr-section-inline-details {\n",
       "  padding-top: 4px;\n",
       "  padding-bottom: 4px;\n",
       "}\n",
       "\n",
       ".xr-section-inline-details {\n",
       "  grid-column: 2 / -1;\n",
       "}\n",
       "\n",
       ".xr-section-details {\n",
       "  display: none;\n",
       "  grid-column: 1 / -1;\n",
       "  margin-bottom: 5px;\n",
       "}\n",
       "\n",
       ".xr-section-summary-in:checked ~ .xr-section-details {\n",
       "  display: contents;\n",
       "}\n",
       "\n",
       ".xr-array-wrap {\n",
       "  grid-column: 1 / -1;\n",
       "  display: grid;\n",
       "  grid-template-columns: 20px auto;\n",
       "}\n",
       "\n",
       ".xr-array-wrap > label {\n",
       "  grid-column: 1;\n",
       "  vertical-align: top;\n",
       "}\n",
       "\n",
       ".xr-preview {\n",
       "  color: var(--xr-font-color3);\n",
       "}\n",
       "\n",
       ".xr-array-preview,\n",
       ".xr-array-data {\n",
       "  padding: 0 5px !important;\n",
       "  grid-column: 2;\n",
       "}\n",
       "\n",
       ".xr-array-data,\n",
       ".xr-array-in:checked ~ .xr-array-preview {\n",
       "  display: none;\n",
       "}\n",
       "\n",
       ".xr-array-in:checked ~ .xr-array-data,\n",
       ".xr-array-preview {\n",
       "  display: inline-block;\n",
       "}\n",
       "\n",
       ".xr-dim-list {\n",
       "  display: inline-block !important;\n",
       "  list-style: none;\n",
       "  padding: 0 !important;\n",
       "  margin: 0;\n",
       "}\n",
       "\n",
       ".xr-dim-list li {\n",
       "  display: inline-block;\n",
       "  padding: 0;\n",
       "  margin: 0;\n",
       "}\n",
       "\n",
       ".xr-dim-list:before {\n",
       "  content: '(';\n",
       "}\n",
       "\n",
       ".xr-dim-list:after {\n",
       "  content: ')';\n",
       "}\n",
       "\n",
       ".xr-dim-list li:not(:last-child):after {\n",
       "  content: ',';\n",
       "  padding-right: 5px;\n",
       "}\n",
       "\n",
       ".xr-has-index {\n",
       "  font-weight: bold;\n",
       "}\n",
       "\n",
       ".xr-var-list,\n",
       ".xr-var-item {\n",
       "  display: contents;\n",
       "}\n",
       "\n",
       ".xr-var-item > div,\n",
       ".xr-var-item label,\n",
       ".xr-var-item > .xr-var-name span {\n",
       "  background-color: var(--xr-background-color-row-even);\n",
       "  margin-bottom: 0;\n",
       "}\n",
       "\n",
       ".xr-var-item > .xr-var-name:hover span {\n",
       "  padding-right: 5px;\n",
       "}\n",
       "\n",
       ".xr-var-list > li:nth-child(odd) > div,\n",
       ".xr-var-list > li:nth-child(odd) > label,\n",
       ".xr-var-list > li:nth-child(odd) > .xr-var-name span {\n",
       "  background-color: var(--xr-background-color-row-odd);\n",
       "}\n",
       "\n",
       ".xr-var-name {\n",
       "  grid-column: 1;\n",
       "}\n",
       "\n",
       ".xr-var-dims {\n",
       "  grid-column: 2;\n",
       "}\n",
       "\n",
       ".xr-var-dtype {\n",
       "  grid-column: 3;\n",
       "  text-align: right;\n",
       "  color: var(--xr-font-color2);\n",
       "}\n",
       "\n",
       ".xr-var-preview {\n",
       "  grid-column: 4;\n",
       "}\n",
       "\n",
       ".xr-index-preview {\n",
       "  grid-column: 2 / 5;\n",
       "  color: var(--xr-font-color2);\n",
       "}\n",
       "\n",
       ".xr-var-name,\n",
       ".xr-var-dims,\n",
       ".xr-var-dtype,\n",
       ".xr-preview,\n",
       ".xr-attrs dt {\n",
       "  white-space: nowrap;\n",
       "  overflow: hidden;\n",
       "  text-overflow: ellipsis;\n",
       "  padding-right: 10px;\n",
       "}\n",
       "\n",
       ".xr-var-name:hover,\n",
       ".xr-var-dims:hover,\n",
       ".xr-var-dtype:hover,\n",
       ".xr-attrs dt:hover {\n",
       "  overflow: visible;\n",
       "  width: auto;\n",
       "  z-index: 1;\n",
       "}\n",
       "\n",
       ".xr-var-attrs,\n",
       ".xr-var-data,\n",
       ".xr-index-data {\n",
       "  display: none;\n",
       "  background-color: var(--xr-background-color) !important;\n",
       "  padding-bottom: 5px !important;\n",
       "}\n",
       "\n",
       ".xr-var-attrs-in:checked ~ .xr-var-attrs,\n",
       ".xr-var-data-in:checked ~ .xr-var-data,\n",
       ".xr-index-data-in:checked ~ .xr-index-data {\n",
       "  display: block;\n",
       "}\n",
       "\n",
       ".xr-var-data > table {\n",
       "  float: right;\n",
       "}\n",
       "\n",
       ".xr-var-name span,\n",
       ".xr-var-data,\n",
       ".xr-index-name div,\n",
       ".xr-index-data,\n",
       ".xr-attrs {\n",
       "  padding-left: 25px !important;\n",
       "}\n",
       "\n",
       ".xr-attrs,\n",
       ".xr-var-attrs,\n",
       ".xr-var-data,\n",
       ".xr-index-data {\n",
       "  grid-column: 1 / -1;\n",
       "}\n",
       "\n",
       "dl.xr-attrs {\n",
       "  padding: 0;\n",
       "  margin: 0;\n",
       "  display: grid;\n",
       "  grid-template-columns: 125px auto;\n",
       "}\n",
       "\n",
       ".xr-attrs dt,\n",
       ".xr-attrs dd {\n",
       "  padding: 0;\n",
       "  margin: 0;\n",
       "  float: left;\n",
       "  padding-right: 10px;\n",
       "  width: auto;\n",
       "}\n",
       "\n",
       ".xr-attrs dt {\n",
       "  font-weight: normal;\n",
       "  grid-column: 1;\n",
       "}\n",
       "\n",
       ".xr-attrs dt:hover span {\n",
       "  display: inline-block;\n",
       "  background: var(--xr-background-color);\n",
       "  padding-right: 10px;\n",
       "}\n",
       "\n",
       ".xr-attrs dd {\n",
       "  grid-column: 2;\n",
       "  white-space: pre-wrap;\n",
       "  word-break: break-all;\n",
       "}\n",
       "\n",
       ".xr-icon-database,\n",
       ".xr-icon-file-text2,\n",
       ".xr-no-icon {\n",
       "  display: inline-block;\n",
       "  vertical-align: middle;\n",
       "  width: 1em;\n",
       "  height: 1.5em !important;\n",
       "  stroke-width: 0;\n",
       "  stroke: currentColor;\n",
       "  fill: currentColor;\n",
       "}\n",
       "</style><pre class='xr-text-repr-fallback'>&lt;xarray.Dataset&gt; Size: 416kB\n",
       "Dimensions:        (element: 10, lat: 36, lon: 72)\n",
       "Coordinates:\n",
       "  * element        (element) object 80B &#x27;al&#x27; &#x27;ca&#x27; &#x27;cl&#x27; ... &#x27;si&#x27; &#x27;th&#x27; &#x27;volatiles&#x27;\n",
       "  * lat            (lat) float64 288B -87.5 -82.5 -77.5 -72.5 ... 77.5 82.5 87.5\n",
       "  * lon            (lon) float64 576B -177.5 -172.5 -167.5 ... 167.5 172.5 177.5\n",
       "Data variables:\n",
       "    concentration  (element, lat, lon) float64 207kB nan nan nan ... nan nan nan\n",
       "    sigma          (element, lat, lon) float64 207kB nan nan nan ... nan nan nan</pre><div class='xr-wrap' style='display:none'><div class='xr-header'><div class='xr-obj-type'>xarray.Dataset</div></div><ul class='xr-sections'><li class='xr-section-item'><input id='section-b566fc9d-0067-4e28-8ff9-fd4fdb1dafb3' class='xr-section-summary-in' type='checkbox' disabled ><label for='section-b566fc9d-0067-4e28-8ff9-fd4fdb1dafb3' class='xr-section-summary'  title='Expand/collapse section'>Dimensions:</label><div class='xr-section-inline-details'><ul class='xr-dim-list'><li><span class='xr-has-index'>element</span>: 10</li><li><span class='xr-has-index'>lat</span>: 36</li><li><span class='xr-has-index'>lon</span>: 72</li></ul></div><div class='xr-section-details'></div></li><li class='xr-section-item'><input id='section-979570ac-3c7b-4061-aa32-0d66fa38b24e' class='xr-section-summary-in' type='checkbox'  checked><label for='section-979570ac-3c7b-4061-aa32-0d66fa38b24e' class='xr-section-summary' >Coordinates: <span>(3)</span></label><div class='xr-section-inline-details'></div><div class='xr-section-details'><ul class='xr-var-list'><li class='xr-var-item'><div class='xr-var-name'><span class='xr-has-index'>element</span></div><div class='xr-var-dims'>(element)</div><div class='xr-var-dtype'>object</div><div class='xr-var-preview xr-preview'>&#x27;al&#x27; &#x27;ca&#x27; &#x27;cl&#x27; ... &#x27;th&#x27; &#x27;volatiles&#x27;</div><input id='attrs-c661546a-ac31-4ca3-aeed-279d9d87e6ff' class='xr-var-attrs-in' type='checkbox' disabled><label for='attrs-c661546a-ac31-4ca3-aeed-279d9d87e6ff' title='Show/Hide attributes'><svg class='icon xr-icon-file-text2'><use xlink:href='#icon-file-text2'></use></svg></label><input id='data-76718f82-89e4-4bc4-90d6-5ca2cae1c10a' class='xr-var-data-in' type='checkbox'><label for='data-76718f82-89e4-4bc4-90d6-5ca2cae1c10a' title='Show/Hide data repr'><svg class='icon xr-icon-database'><use xlink:href='#icon-database'></use></svg></label><div class='xr-var-attrs'><dl class='xr-attrs'></dl></div><div class='xr-var-data'><pre>array([&#x27;al&#x27;, &#x27;ca&#x27;, &#x27;cl&#x27;, &#x27;fe&#x27;, &#x27;h2o&#x27;, &#x27;k&#x27;, &#x27;s&#x27;, &#x27;si&#x27;, &#x27;th&#x27;, &#x27;volatiles&#x27;],\n",
       "      dtype=object)</pre></div></li><li class='xr-var-item'><div class='xr-var-name'><span class='xr-has-index'>lat</span></div><div class='xr-var-dims'>(lat)</div><div class='xr-var-dtype'>float64</div><div class='xr-var-preview xr-preview'>-87.5 -82.5 -77.5 ... 82.5 87.5</div><input id='attrs-ac785095-7b18-4bbd-b378-8cf22b305183' class='xr-var-attrs-in' type='checkbox' disabled><label for='attrs-ac785095-7b18-4bbd-b378-8cf22b305183' title='Show/Hide attributes'><svg class='icon xr-icon-file-text2'><use xlink:href='#icon-file-text2'></use></svg></label><input id='data-0b55bf15-6967-4c38-acd2-15ae1f1d2ea5' class='xr-var-data-in' type='checkbox'><label for='data-0b55bf15-6967-4c38-acd2-15ae1f1d2ea5' title='Show/Hide data repr'><svg class='icon xr-icon-database'><use xlink:href='#icon-database'></use></svg></label><div class='xr-var-attrs'><dl class='xr-attrs'></dl></div><div class='xr-var-data'><pre>array([-87.5, -82.5, -77.5, -72.5, -67.5, -62.5, -57.5, -52.5, -47.5, -42.5,\n",
       "       -37.5, -32.5, -27.5, -22.5, -17.5, -12.5,  -7.5,  -2.5,   2.5,   7.5,\n",
       "        12.5,  17.5,  22.5,  27.5,  32.5,  37.5,  42.5,  47.5,  52.5,  57.5,\n",
       "        62.5,  67.5,  72.5,  77.5,  82.5,  87.5])</pre></div></li><li class='xr-var-item'><div class='xr-var-name'><span class='xr-has-index'>lon</span></div><div class='xr-var-dims'>(lon)</div><div class='xr-var-dtype'>float64</div><div class='xr-var-preview xr-preview'>-177.5 -172.5 ... 172.5 177.5</div><input id='attrs-123c1a9a-a87f-49db-b44a-4863ec10501e' class='xr-var-attrs-in' type='checkbox' disabled><label for='attrs-123c1a9a-a87f-49db-b44a-4863ec10501e' title='Show/Hide attributes'><svg class='icon xr-icon-file-text2'><use xlink:href='#icon-file-text2'></use></svg></label><input id='data-c3ba1b17-e97c-4c2a-8d08-1f4b5a72eede' class='xr-var-data-in' type='checkbox'><label for='data-c3ba1b17-e97c-4c2a-8d08-1f4b5a72eede' title='Show/Hide data repr'><svg class='icon xr-icon-database'><use xlink:href='#icon-database'></use></svg></label><div class='xr-var-attrs'><dl class='xr-attrs'></dl></div><div class='xr-var-data'><pre>array([-177.5, -172.5, -167.5, -162.5, -157.5, -152.5, -147.5, -142.5, -137.5,\n",
       "       -132.5, -127.5, -122.5, -117.5, -112.5, -107.5, -102.5,  -97.5,  -92.5,\n",
       "        -87.5,  -82.5,  -77.5,  -72.5,  -67.5,  -62.5,  -57.5,  -52.5,  -47.5,\n",
       "        -42.5,  -37.5,  -32.5,  -27.5,  -22.5,  -17.5,  -12.5,   -7.5,   -2.5,\n",
       "          2.5,    7.5,   12.5,   17.5,   22.5,   27.5,   32.5,   37.5,   42.5,\n",
       "         47.5,   52.5,   57.5,   62.5,   67.5,   72.5,   77.5,   82.5,   87.5,\n",
       "         92.5,   97.5,  102.5,  107.5,  112.5,  117.5,  122.5,  127.5,  132.5,\n",
       "        137.5,  142.5,  147.5,  152.5,  157.5,  162.5,  167.5,  172.5,  177.5])</pre></div></li></ul></div></li><li class='xr-section-item'><input id='section-06e20214-3880-4eaf-95a9-67e99b0a3f87' class='xr-section-summary-in' type='checkbox'  checked><label for='section-06e20214-3880-4eaf-95a9-67e99b0a3f87' class='xr-section-summary' >Data variables: <span>(2)</span></label><div class='xr-section-inline-details'></div><div class='xr-section-details'><ul class='xr-var-list'><li class='xr-var-item'><div class='xr-var-name'><span>concentration</span></div><div class='xr-var-dims'>(element, lat, lon)</div><div class='xr-var-dtype'>float64</div><div class='xr-var-preview xr-preview'>nan nan nan nan ... nan nan nan nan</div><input id='attrs-ae1a287f-e2db-42cb-bcfd-05a732f531ac' class='xr-var-attrs-in' type='checkbox' disabled><label for='attrs-ae1a287f-e2db-42cb-bcfd-05a732f531ac' title='Show/Hide attributes'><svg class='icon xr-icon-file-text2'><use xlink:href='#icon-file-text2'></use></svg></label><input id='data-d33c2ed3-68db-458f-9128-dc3627903819' class='xr-var-data-in' type='checkbox'><label for='data-d33c2ed3-68db-458f-9128-dc3627903819' title='Show/Hide data repr'><svg class='icon xr-icon-database'><use xlink:href='#icon-database'></use></svg></label><div class='xr-var-attrs'><dl class='xr-attrs'></dl></div><div class='xr-var-data'><pre>array([[[nan, nan, nan, ..., nan, nan, nan],\n",
       "        [nan, nan, nan, ..., nan, nan, nan],\n",
       "        [nan, nan, nan, ..., nan, nan, nan],\n",
       "        ...,\n",
       "        [nan, nan, nan, ..., nan, nan, nan],\n",
       "        [nan, nan, nan, ..., nan, nan, nan],\n",
       "        [nan, nan, nan, ..., nan, nan, nan]],\n",
       "\n",
       "       [[nan, nan, nan, ..., nan, nan, nan],\n",
       "        [nan, nan, nan, ..., nan, nan, nan],\n",
       "        [nan, nan, nan, ..., nan, nan, nan],\n",
       "        ...,\n",
       "        [nan, nan, nan, ..., nan, nan, nan],\n",
       "        [nan, nan, nan, ..., nan, nan, nan],\n",
       "        [nan, nan, nan, ..., nan, nan, nan]],\n",
       "\n",
       "       [[nan, nan, nan, ..., nan, nan, nan],\n",
       "        [nan, nan, nan, ..., nan, nan, nan],\n",
       "        [nan, nan, nan, ..., nan, nan, nan],\n",
       "        ...,\n",
       "...\n",
       "        ...,\n",
       "        [nan, nan, nan, ..., nan, nan, nan],\n",
       "        [nan, nan, nan, ..., nan, nan, nan],\n",
       "        [nan, nan, nan, ..., nan, nan, nan]],\n",
       "\n",
       "       [[nan, nan, nan, ..., nan, nan, nan],\n",
       "        [nan, nan, nan, ..., nan, nan, nan],\n",
       "        [nan, nan, nan, ..., nan, nan, nan],\n",
       "        ...,\n",
       "        [nan, nan, nan, ..., nan, nan, nan],\n",
       "        [nan, nan, nan, ..., nan, nan, nan],\n",
       "        [nan, nan, nan, ..., nan, nan, nan]],\n",
       "\n",
       "       [[nan, nan, nan, ..., nan, nan, nan],\n",
       "        [nan, nan, nan, ..., nan, nan, nan],\n",
       "        [nan, nan, nan, ..., nan, nan, nan],\n",
       "        ...,\n",
       "        [nan, nan, nan, ..., nan, nan, nan],\n",
       "        [nan, nan, nan, ..., nan, nan, nan],\n",
       "        [nan, nan, nan, ..., nan, nan, nan]]])</pre></div></li><li class='xr-var-item'><div class='xr-var-name'><span>sigma</span></div><div class='xr-var-dims'>(element, lat, lon)</div><div class='xr-var-dtype'>float64</div><div class='xr-var-preview xr-preview'>nan nan nan nan ... nan nan nan nan</div><input id='attrs-7d800cff-9654-4ce0-a2f8-3c07b6a635d6' class='xr-var-attrs-in' type='checkbox' disabled><label for='attrs-7d800cff-9654-4ce0-a2f8-3c07b6a635d6' title='Show/Hide attributes'><svg class='icon xr-icon-file-text2'><use xlink:href='#icon-file-text2'></use></svg></label><input id='data-f223ae17-5248-480e-b105-a6e3de404063' class='xr-var-data-in' type='checkbox'><label for='data-f223ae17-5248-480e-b105-a6e3de404063' title='Show/Hide data repr'><svg class='icon xr-icon-database'><use xlink:href='#icon-database'></use></svg></label><div class='xr-var-attrs'><dl class='xr-attrs'></dl></div><div class='xr-var-data'><pre>array([[[nan, nan, nan, ..., nan, nan, nan],\n",
       "        [nan, nan, nan, ..., nan, nan, nan],\n",
       "        [nan, nan, nan, ..., nan, nan, nan],\n",
       "        ...,\n",
       "        [nan, nan, nan, ..., nan, nan, nan],\n",
       "        [nan, nan, nan, ..., nan, nan, nan],\n",
       "        [nan, nan, nan, ..., nan, nan, nan]],\n",
       "\n",
       "       [[nan, nan, nan, ..., nan, nan, nan],\n",
       "        [nan, nan, nan, ..., nan, nan, nan],\n",
       "        [nan, nan, nan, ..., nan, nan, nan],\n",
       "        ...,\n",
       "        [nan, nan, nan, ..., nan, nan, nan],\n",
       "        [nan, nan, nan, ..., nan, nan, nan],\n",
       "        [nan, nan, nan, ..., nan, nan, nan]],\n",
       "\n",
       "       [[nan, nan, nan, ..., nan, nan, nan],\n",
       "        [nan, nan, nan, ..., nan, nan, nan],\n",
       "        [nan, nan, nan, ..., nan, nan, nan],\n",
       "        ...,\n",
       "...\n",
       "        ...,\n",
       "        [nan, nan, nan, ..., nan, nan, nan],\n",
       "        [nan, nan, nan, ..., nan, nan, nan],\n",
       "        [nan, nan, nan, ..., nan, nan, nan]],\n",
       "\n",
       "       [[nan, nan, nan, ..., nan, nan, nan],\n",
       "        [nan, nan, nan, ..., nan, nan, nan],\n",
       "        [nan, nan, nan, ..., nan, nan, nan],\n",
       "        ...,\n",
       "        [nan, nan, nan, ..., nan, nan, nan],\n",
       "        [nan, nan, nan, ..., nan, nan, nan],\n",
       "        [nan, nan, nan, ..., nan, nan, nan]],\n",
       "\n",
       "       [[nan, nan, nan, ..., nan, nan, nan],\n",
       "        [nan, nan, nan, ..., nan, nan, nan],\n",
       "        [nan, nan, nan, ..., nan, nan, nan],\n",
       "        ...,\n",
       "        [nan, nan, nan, ..., nan, nan, nan],\n",
       "        [nan, nan, nan, ..., nan, nan, nan],\n",
       "        [nan, nan, nan, ..., nan, nan, nan]]])</pre></div></li></ul></div></li><li class='xr-section-item'><input id='section-721f2c9e-104f-43d0-b86d-e657491949bb' class='xr-section-summary-in' type='checkbox'  ><label for='section-721f2c9e-104f-43d0-b86d-e657491949bb' class='xr-section-summary' >Indexes: <span>(3)</span></label><div class='xr-section-inline-details'></div><div class='xr-section-details'><ul class='xr-var-list'><li class='xr-var-item'><div class='xr-index-name'><div>element</div></div><div class='xr-index-preview'>PandasIndex</div><div></div><input id='index-84d5df23-1129-41e1-8ec7-04e1f53a6a8c' class='xr-index-data-in' type='checkbox'/><label for='index-84d5df23-1129-41e1-8ec7-04e1f53a6a8c' title='Show/Hide index repr'><svg class='icon xr-icon-database'><use xlink:href='#icon-database'></use></svg></label><div class='xr-index-data'><pre>PandasIndex(Index([&#x27;al&#x27;, &#x27;ca&#x27;, &#x27;cl&#x27;, &#x27;fe&#x27;, &#x27;h2o&#x27;, &#x27;k&#x27;, &#x27;s&#x27;, &#x27;si&#x27;, &#x27;th&#x27;, &#x27;volatiles&#x27;], dtype=&#x27;object&#x27;, name=&#x27;element&#x27;))</pre></div></li><li class='xr-var-item'><div class='xr-index-name'><div>lat</div></div><div class='xr-index-preview'>PandasIndex</div><div></div><input id='index-03b2abee-29c8-4cbf-b1bc-acd64933de71' class='xr-index-data-in' type='checkbox'/><label for='index-03b2abee-29c8-4cbf-b1bc-acd64933de71' title='Show/Hide index repr'><svg class='icon xr-icon-database'><use xlink:href='#icon-database'></use></svg></label><div class='xr-index-data'><pre>PandasIndex(Index([-87.5, -82.5, -77.5, -72.5, -67.5, -62.5, -57.5, -52.5, -47.5, -42.5,\n",
       "       -37.5, -32.5, -27.5, -22.5, -17.5, -12.5,  -7.5,  -2.5,   2.5,   7.5,\n",
       "        12.5,  17.5,  22.5,  27.5,  32.5,  37.5,  42.5,  47.5,  52.5,  57.5,\n",
       "        62.5,  67.5,  72.5,  77.5,  82.5,  87.5],\n",
       "      dtype=&#x27;float64&#x27;, name=&#x27;lat&#x27;))</pre></div></li><li class='xr-var-item'><div class='xr-index-name'><div>lon</div></div><div class='xr-index-preview'>PandasIndex</div><div></div><input id='index-825c420e-5cb5-446a-b93f-cd87a598195f' class='xr-index-data-in' type='checkbox'/><label for='index-825c420e-5cb5-446a-b93f-cd87a598195f' title='Show/Hide index repr'><svg class='icon xr-icon-database'><use xlink:href='#icon-database'></use></svg></label><div class='xr-index-data'><pre>PandasIndex(Index([-177.5, -172.5, -167.5, -162.5, -157.5, -152.5, -147.5, -142.5, -137.5,\n",
       "       -132.5, -127.5, -122.5, -117.5, -112.5, -107.5, -102.5,  -97.5,  -92.5,\n",
       "        -87.5,  -82.5,  -77.5,  -72.5,  -67.5,  -62.5,  -57.5,  -52.5,  -47.5,\n",
       "        -42.5,  -37.5,  -32.5,  -27.5,  -22.5,  -17.5,  -12.5,   -7.5,   -2.5,\n",
       "          2.5,    7.5,   12.5,   17.5,   22.5,   27.5,   32.5,   37.5,   42.5,\n",
       "         47.5,   52.5,   57.5,   62.5,   67.5,   72.5,   77.5,   82.5,   87.5,\n",
       "         92.5,   97.5,  102.5,  107.5,  112.5,  117.5,  122.5,  127.5,  132.5,\n",
       "        137.5,  142.5,  147.5,  152.5,  157.5,  162.5,  167.5,  172.5,  177.5],\n",
       "      dtype=&#x27;float64&#x27;, name=&#x27;lon&#x27;))</pre></div></li></ul></div></li><li class='xr-section-item'><input id='section-b3f6b116-339f-4ca5-b073-a9db6104b486' class='xr-section-summary-in' type='checkbox' disabled ><label for='section-b3f6b116-339f-4ca5-b073-a9db6104b486' class='xr-section-summary'  title='Expand/collapse section'>Attributes: <span>(0)</span></label><div class='xr-section-inline-details'></div><div class='xr-section-details'><dl class='xr-attrs'></dl></div></li></ul></div></div>"
      ],
      "text/plain": [
       "<xarray.Dataset> Size: 416kB\n",
       "Dimensions:        (element: 10, lat: 36, lon: 72)\n",
       "Coordinates:\n",
       "  * element        (element) object 80B 'al' 'ca' 'cl' ... 'si' 'th' 'volatiles'\n",
       "  * lat            (lat) float64 288B -87.5 -82.5 -77.5 -72.5 ... 77.5 82.5 87.5\n",
       "  * lon            (lon) float64 576B -177.5 -172.5 -167.5 ... 167.5 172.5 177.5\n",
       "Data variables:\n",
       "    concentration  (element, lat, lon) float64 207kB nan nan nan ... nan nan nan\n",
       "    sigma          (element, lat, lon) float64 207kB nan nan nan ... nan nan nan"
      ]
     },
     "execution_count": 4,
     "metadata": {},
     "output_type": "execute_result"
    }
   ],
   "source": [
    "dat_grs"
   ]
  },
  {
   "cell_type": "code",
   "execution_count": 5,
   "metadata": {},
   "outputs": [
    {
     "data": {
      "text/plain": [
       "<matplotlib.collections.QuadMesh at 0x19b7b398190>"
      ]
     },
     "execution_count": 5,
     "metadata": {},
     "output_type": "execute_result"
    },
    {
     "data": {
      "image/png": "[encoded data removed]",
      "text/plain": [
       "<Figure size 1000x500 with 2 Axes>"
      ]
     },
     "metadata": {},
     "output_type": "display_data"
    }
   ],
   "source": [
    "dat_grs.sel(element='volatiles').concentration.plot(figsize=(10,5))"
   ]
  },
  {
   "cell_type": "markdown",
   "metadata": {},
   "source": [
    "---\n",
    "## [2.2] manual indexing"
   ]
  },
  {
   "cell_type": "code",
   "execution_count": 6,
   "metadata": {},
   "outputs": [],
   "source": [
    "lats = dat_grs.coords['lat'].values\n",
    "lons = dat_grs.coords['lon'].values\n",
    "elements = dat_grs.coords['element'].values.tolist()\n",
    "\n",
    "dat_grs_dict = {}\n",
    "\n",
    "dat_grs_dict['lats'] = lats\n",
    "dat_grs_dict['lons'] = lons\n",
    "\n",
    "for element in elements:\n",
    "    dat_grs_dict[element] = {\n",
    "        'concentration': dat_grs.sel(element=element).concentration.to_numpy(),\n",
    "        'sigma':         dat_grs.sel(element=element).sigma.to_numpy(),\n",
    "    }\n",
    "\n",
    "\n",
    "####################################################################################################################################\n",
    "\n",
    "\n",
    "# def grs_get2(element, lon, lat, quantity='concentration', epsilon=0):\n",
    "#     # (purpose of epsilon:) when picking a coordinate exactly between two datapoints, numpy and xarray return different values. so we add this term to \"bump\" coordinates slightly so they're always equal :)\n",
    "#     index_nearest_lat = np.argmin(np.abs(dat_grs_dict['lats'] - lat + epsilon))\n",
    "#     index_nearest_lon = np.argmin(np.abs(dat_grs_dict['lons'] - lon + epsilon))\n",
    "#     return dat_grs_dict[element][quantity][index_nearest_lat][index_nearest_lon] \n",
    "\n",
    "\n",
    "\n",
    "def grs_get2(element, lon, lat, quantity='concentration'):\n",
    "\n",
    "    ### EXPLANATION -- The code below represents two ways of solving the problem: \"given a value (lon/lat) and an array (lons/lats), find the index of the array element which is closest to the given value\". The only difference is, in the case of a _tie_, the first method (commented out) chooses the lower index, and the second method chooses the higher index. We choose the latter because xarray's `sel` function with `method='nearest'` always chooses the higher index and we want consistent behavior here. \n",
    "\n",
    "    # index_nearest_lat = np.argmin(np.abs(dat_grs_dict['lats'] - lat + epsilon))\n",
    "    # index_nearest_lon = np.argmin(np.abs(dat_grs_dict['lons'] - lon + epsilon))\n",
    "    index_nearest_lat = dat_grs_dict['lats'].shape[0] - np.argmin(np.flip(np.abs(dat_grs_dict['lats'] - lat))) - 1\n",
    "    index_nearest_lon = dat_grs_dict['lons'].shape[0] - np.argmin(np.flip(np.abs(dat_grs_dict['lons'] - lon))) - 1\n",
    "\n",
    "    return dat_grs_dict[element][quantity][index_nearest_lat][index_nearest_lon] "
   ]
  },
  {
   "cell_type": "raw",
   "metadata": {},
   "source": [
    "=> takeaways:\n",
    "    - implement BOTH xarray and manual data loading (in grs.init or something)\n",
    "        1. xarray\n",
    "            - pros:\n",
    "                - crazy efficient for large blocks of data (maybe automatically detect this, or pass this to grs visualize?)\n",
    "                    => SUGGEST USERS TO USE THIS METHOD SINCE MATH ON BIG MATRICIES IS SIGNIFICANTLY MORE EFFICIENT THAN DOUBLE LOOPING!!!\n",
    "                - maybe some interesting xarray functions that could be useful/efficient, might as well extend the functionality\n",
    "                    - eg interactive plotting: https://tutorial.xarray.dev/intermediate/hvplot.html \n",
    "                        * INCLUDES PROJECTIONS!!??!?! see this for more info: https://stackoverflow.com/questions/72523526/is-cartopy-capable-of-plotting-georeferenced-data-from-another-planet-e-g-mar\n",
    "                - easy to setup (conceptually a lil weird but meh), no need to weirdly manipulate numpy arrays\n",
    "            - cons:\n",
    "                - potential slowing loadspeeds but i doubt tbh\n",
    "                - if loading data to numpy relies on this, then if i ever get rid of xarray stuff then i'd have to reimplement numpy loading. not a big deal lol.\n",
    "        2. numpy\n",
    "            - pros: \n",
    "                - fastest accessing for single data points (by 1-3 orders of magnitude!!!!)"
   ]
  },
  {
   "cell_type": "markdown",
   "metadata": {},
   "source": [
    "---\n",
    "# [3] accessors give diff outputs???"
   ]
  },
  {
   "cell_type": "code",
   "execution_count": 7,
   "metadata": {},
   "outputs": [],
   "source": [
    "# element = 'th'\n",
    "\n",
    "# lons = np.arange(11, 12, 0.1)\n",
    "# lats = np.arange(-15, -5, 0.1)\n",
    "# lats = np.arange(5, 15, 0.1)\n",
    "\n",
    "# lons = np.round(lons,2)\n",
    "# lats = np.round(lats,2)\n",
    "\n",
    "# lons = np.arange(-180, 180, 0.1)\n",
    "# lats = np.arange(-90, 90, 0.1)\n",
    "\n",
    "\n",
    "# coords = np.array([lons, lats]).T\n",
    "# coords = np.array(np.meshgrid(lons, lats)).T.reshape(-1, 2) \n",
    "\n",
    "# print(f'num data points: {coords.shape[0]}')\n",
    "\n",
    "\n",
    "\n",
    "\n",
    "\n",
    "\n",
    "# dat1 = []\n",
    "# for coord in coords:\n",
    "#     # dat1.append(grs_get1(element=element, lon=coord[0], lat=coord[1]))\n",
    "#     dat1.append(grs_get1(element=element, lon=np.round(coord[0],2), lat=np.round(coord[1],2)))\n",
    "# dat1 = np.array(dat1)\n",
    "\n",
    "\n",
    "\n",
    "# dat2 = []\n",
    "# for coord in coords:\n",
    "#     # dat2.append(grs_get2(element=element, lon=coord[0], lat=coord[1]))\n",
    "#     dat2.append(grs_get2(element=element, lon=coord[0], lat=coord[1], epsilon=-1e-10))\n",
    "# dat2 = np.array(dat2)\n"
   ]
  },
  {
   "cell_type": "code",
   "execution_count": 8,
   "metadata": {},
   "outputs": [],
   "source": [
    "# '''look for places where two methods produce different outputs'''\n",
    "\n",
    "# diff_mask = ~np.equal(dat1,dat2)\n",
    "\n",
    "# for i,val in enumerate(diff_mask):\n",
    "#     if val:\n",
    "#         print(f'{i = }')\n",
    "#         print(f'\\t{dat1[i] = }')\n",
    "#         print(f'\\t{dat2[i] = }')\n",
    "#         print(f'\\t{coords[i] = }')"
   ]
  },
  {
   "cell_type": "code",
   "execution_count": 9,
   "metadata": {},
   "outputs": [],
   "source": [
    "# '''proper time benchmarking'''\n",
    "\n",
    "# lons = np.round(lons,2)\n",
    "# lats = np.round(lats,2)\n",
    "\n",
    "# dat11 = dat_grs.sel(element=element).sel(lon=lons, lat=lats, method='nearest')['concentration'].values\n",
    "# dat12 = np.array([[grs_get1(element=element, lon=lon, lat=lat) for lon in lons] for lat in lats])\n",
    "# dat2 = np.array([[grs_get2(element=element, lon=lon, lat=lat, epsilon=-1e-3) for lon in lons] for lat in lats])"
   ]
  },
  {
   "cell_type": "code",
   "execution_count": 10,
   "metadata": {},
   "outputs": [],
   "source": [
    "# print(np.array_equal(dat11,dat2))\n",
    "# print(np.array_equal(dat12,dat2))"
   ]
  },
  {
   "cell_type": "markdown",
   "metadata": {},
   "source": [
    "CONCLUSIONS for implementation:\n",
    "\n",
    "1. first idea:\n",
    "    - use manual numpy indexing with epsilon for SINGLE VALUES ONLY\n",
    "        - we can do 10^5 accesses per second, anything less than that is unnoticeable\n",
    "    - use xarray WITH ROUNDED INPUTS for SWATHS (just round based on precision of the requested spacing!!!)\n",
    "        <!-- - 10^7 manual-indexing-accesses would take about 2 minutes, but with xarray it's less than 0.1 seconds :3 -->\n",
    "        - Lets say we want to get values _for just one element_ over all of mars (-180->180, -90->90) with a 0.1 degree resolution (this is most relevant for calculations). That's 6480000 accesses. Manual indexing takes 1.5. But xarray takes <0.1 seconds :3\n",
    "            - this is not even mentioning that usually for calculations we want multiple elements, so the difference is even more pronounced.\n",
    "2. second idea:\n",
    "    - (reasoning) — i was initially thinking that the individual indexing isn't needed at all (just use xarray indexing, and if that's ever getting too slow, then switch to swath indexing) -- but might as well still include it for any random edge-cases like accessing crust values in a circle or something idk. it's faster by 1-2 orders of magnitude so not trivial for sure."
   ]
  },
  {
   "cell_type": "markdown",
   "metadata": {},
   "source": [
    "### how to fix the bad rounding:"
   ]
  },
  {
   "cell_type": "code",
   "execution_count": 36,
   "metadata": {},
   "outputs": [
    {
     "data": {
      "text/plain": [
       "True"
      ]
     },
     "execution_count": 36,
     "metadata": {},
     "output_type": "execute_result"
    }
   ],
   "source": [
    "'''compare more'''\n",
    "\n",
    "\n",
    "lon_bounds = (-180,360)\n",
    "lat_bounds = (-90,90)\n",
    "grid_spacing = 1\n",
    "\n",
    "lons = np.arange(lon_bounds[0], lon_bounds[1], grid_spacing)\n",
    "lats = np.arange(lat_bounds[0], lat_bounds[1], grid_spacing)\n",
    "\n",
    "\n",
    "lons = np.round(lons, 10)\n",
    "lats = np.round(lats, 10)\n",
    "\n",
    "lons = utils.clon2lon(lons)\n",
    "\n",
    "\n",
    "dat_xswath = dat_grs.sel(element=element).sel(lon=lons, lat=lats, method='nearest')['concentration'].values\n",
    "# dat_xquery = np.array([[grs_get1(element=element, lon=lon, lat=lat) for lon in lons] for lat in lats]) # wastes time, always identical to xswath method\n",
    "# dat_manual = np.array([[grs_get2(element=element, lon=lon, lat=lat, epsilon=-1e-3) for lon in lons] for lat in lats])\n",
    "dat_manual = np.array([[grs_get2(element=element, lon=lon, lat=lat) for lon in lons] for lat in lats])\n",
    "\n",
    "# np.allclose(dat_xswath, dat_manual)\n",
    "np.array_equal(dat_xswath, dat_manual, equal_nan=True)"
   ]
  },
  {
   "cell_type": "code",
   "execution_count": 33,
   "metadata": {},
   "outputs": [],
   "source": [
    "dat_xswath = dat_grs.sel(element=element).sel(lon=lons, lat=lats, method='nearest')['concentration'].values"
   ]
  },
  {
   "cell_type": "code",
   "execution_count": 32,
   "metadata": {},
   "outputs": [],
   "source": [
    "dat_manual = np.array([[grs_get2(element=element, lon=lon, lat=lat) for lon in lons] for lat in lats])"
   ]
  },
  {
   "cell_type": "code",
   "execution_count": 35,
   "metadata": {},
   "outputs": [],
   "source": [
    "# dat_xquery = np.array([[grs_get1(element=element, lon=lon, lat=lat) for lon in lons] for lat in lats]) # SO SLOW DAMN, i just manually stopped after a minute gyat damn"
   ]
  },
  {
   "cell_type": "code",
   "execution_count": 29,
   "metadata": {},
   "outputs": [
    {
     "data": {
      "image/png": "[encoded data removed]",
      "text/plain": [
       "<Figure size 640x480 with 2 Axes>"
      ]
     },
     "metadata": {},
     "output_type": "display_data"
    },
    {
     "data": {
      "image/png": "[encoded data removed]",
      "text/plain": [
       "<Figure size 640x480 with 2 Axes>"
      ]
     },
     "metadata": {},
     "output_type": "display_data"
    }
   ],
   "source": [
    "plt.imshow(dat_xswath)\n",
    "plt.colorbar()\n",
    "plt.show()\n",
    "plt.imshow(dat_manual)\n",
    "plt.colorbar()\n",
    "plt.show()"
   ]
  },
  {
   "cell_type": "code",
   "execution_count": null,
   "metadata": {},
   "outputs": [],
   "source": [
    "## try 1\n",
    "# num_points = int((lon_bounds[1] - lon_bounds[0]) / (grid_spacing))\n",
    "\n",
    "# np.linspace(lon_bounds[0], lon_bounds[1], num_points)\n",
    "\n",
    "# end = lon_bounds[0] + num_points * grid_spacing\n",
    "# np.linspace(lon_bounds[0], end, num_points)"
   ]
  },
  {
   "cell_type": "code",
   "execution_count": null,
   "metadata": {},
   "outputs": [],
   "source": [
    "## try 2\n",
    "# num_points = int((lon_bounds[1] - lon_bounds[0]) / (grid_spacing))\n",
    "# [lon_bounds[0] + grid_spacing*i for i in range(num_points)]"
   ]
  },
  {
   "cell_type": "code",
   "execution_count": null,
   "metadata": {},
   "outputs": [],
   "source": [
    "## try 3\n",
    "# import math\n",
    "\n",
    "# num_points = math.ceil((lon_bounds[1] - lon_bounds[0]) / grid_spacing)\n",
    "# np.linspace(lon_bounds[0], lon_bounds[1] + (num_points-1) * grid_spacing, num_points)"
   ]
  },
  {
   "cell_type": "code",
   "execution_count": null,
   "metadata": {},
   "outputs": [
    {
     "data": {
      "text/plain": [
       "True"
      ]
     },
     "execution_count": 107,
     "metadata": {},
     "output_type": "execute_result"
    }
   ],
   "source": [
    "# np.allclose(dat_xswath, dat_manual)\n",
    "# np.array_equal(dat_xswath, dat_manual)"
   ]
  },
  {
   "cell_type": "code",
   "execution_count": null,
   "metadata": {},
   "outputs": [
    {
     "data": {
      "text/plain": [
       "False"
      ]
     },
     "execution_count": 115,
     "metadata": {},
     "output_type": "execute_result"
    }
   ],
   "source": [
    "# np.any(~(-180 <= lons))"
   ]
  },
  {
   "cell_type": "markdown",
   "metadata": {},
   "source": [
    "---\n",
    "# [4] wraparound"
   ]
  },
  {
   "cell_type": "code",
   "execution_count": null,
   "metadata": {},
   "outputs": [],
   "source": [
    "import matplotlib.pyplot as plt"
   ]
  },
  {
   "cell_type": "code",
   "execution_count": null,
   "metadata": {},
   "outputs": [],
   "source": [
    "# '''old algorithm (not actually necessary! clon2lon is a catch-all)'''\n",
    "# # if lons[0] < 180 < lons[-1]:\n",
    "# if lons[-1] > 180:\n",
    "#     idx = np.searchsorted(lons, 180)\n",
    "#     lons_before_180 = lons[:idx]\n",
    "#     lons_after_180 = utils.clon2lon(lons[idx:])\n",
    "#     lons = np.concatenate([lons_before_180, lons_after_180])"
   ]
  },
  {
   "cell_type": "code",
   "execution_count": null,
   "metadata": {},
   "outputs": [
    {
     "data": {
      "text/plain": [
       "<matplotlib.image.AxesImage at 0x237338ec150>"
      ]
     },
     "execution_count": 76,
     "metadata": {},
     "output_type": "execute_result"
    },
    {
     "data": {
      "image/png": "[encoded data removed]",
      "text/plain": [
       "<Figure size 640x480 with 1 Axes>"
      ]
     },
     "metadata": {},
     "output_type": "display_data"
    }
   ],
   "source": [
    "lons = np.arange(-180,180,1)\n",
    "lats = np.arange(-90,90,1)\n",
    "\n",
    "lons = utils.clon2lon(lons)\n",
    "# lons\n",
    "dat = dat_grs.sel(element='s').sel(lon=lons, lat=lats, method='nearest')['concentration'].values\n",
    "plt.imshow(dat)"
   ]
  },
  {
   "cell_type": "code",
   "execution_count": null,
   "metadata": {},
   "outputs": [
    {
     "data": {
      "text/plain": [
       "<matplotlib.image.AxesImage at 0x23733874690>"
      ]
     },
     "execution_count": 75,
     "metadata": {},
     "output_type": "execute_result"
    },
    {
     "data": {
      "image/png": "[encoded data removed]",
      "text/plain": [
       "<Figure size 640x480 with 1 Axes>"
      ]
     },
     "metadata": {},
     "output_type": "display_data"
    }
   ],
   "source": [
    "lons = np.arange(0,360,1)\n",
    "lats = np.arange(-90,90,1)\n",
    "\n",
    "lons = utils.clon2lon(lons)\n",
    "dat = dat_grs.sel(element='s').sel(lon=lons, lat=lats, method='nearest')['concentration'].values\n",
    "plt.imshow(dat)"
   ]
  }
 ],
 "metadata": {
  "kernelspec": {
   "display_name": "dev1",
   "language": "python",
   "name": "python3"
  },
  "language_info": {
   "codemirror_mode": {
    "name": "ipython",
    "version": 3
   },
   "file_extension": ".py",
   "mimetype": "text/x-python",
   "name": "python",
   "nbconvert_exporter": "python",
   "pygments_lexer": "ipython3",
   "version": "3.11.8"
  }
 },
 "nbformat": 4,
 "nbformat_minor": 2
}
