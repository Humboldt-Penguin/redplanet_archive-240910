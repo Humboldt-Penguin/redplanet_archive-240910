{
 "cells": [
  {
   "cell_type": "code",
   "execution_count": 5,
   "metadata": {},
   "outputs": [
    {
     "data": {
      "text/plain": [
       "{'ID': '12-000004',\n",
       " 'name': 'Henry',\n",
       " 'lat': 10.79,\n",
       " 'lon': 23.447,\n",
       " 'diameter_km': 167.57,\n",
       " 'depth_rimfloor_topog': 2.06,\n",
       " 'n_layers': 0}"
      ]
     },
     "execution_count": 5,
     "metadata": {},
     "output_type": "execute_result"
    }
   ],
   "source": [
    "from redplanet import utils\n",
    "\n",
    "import pandas as pd\n",
    "\n",
    "path__database = r'C:\\Users\\Eris\\Downloads\\redplanet-data\\Craters\\robbins_crater_database_10kmPlus.csv'\n",
    "\n",
    "\n",
    "data = [\n",
    "    ['CRATER_ID', 'ID', str],\n",
    "    ['CRATER_NAME', 'name', str],\n",
    "    ['LATITUDE_CIRCLE_IMAGE', 'lat', float],\n",
    "    ['LONGITUDE_CIRCLE_IMAGE', 'lon', float],\n",
    "    ['DIAM_CIRCLE_IMAGE', 'diameter_km', float],\n",
    "    ['DEPTH_RIMFLOOR_TOPOG', 'depth_rimfloor_topog', float],\n",
    "    ['NUMBER_LAYERS', 'n_layers', int],\n",
    "]\n",
    "\n",
    "\n",
    "database = pd.read_csv(\n",
    "    path__database, \n",
    "    usecols=[x[0] for x in data],\n",
    "    dtype={x[0]: x[2] for x in data}\n",
    ")\n",
    "\n",
    "database = database.rename(columns={x[0]: x[1] for x in data})\n",
    "\n",
    "mindiam=70\n",
    "maxdiam=150\n",
    "\n",
    "\n",
    "database\n",
    "x = database[ database['name'] == 'Henry' ].to_dict('index')\n",
    "next(iter(x.values()))\n",
    "# database[(mindiam < database['diameter_km']) & (database['diameter_km'] < maxdiam)].to_dict('index')\n",
    "\n",
    "# database.set_index('ID').to_dict(orient='index')"
   ]
  },
  {
   "cell_type": "code",
   "execution_count": 3,
   "metadata": {},
   "outputs": [
    {
     "data": {
      "text/plain": [
       "pandas.core.frame.DataFrame"
      ]
     },
     "execution_count": 3,
     "metadata": {},
     "output_type": "execute_result"
    }
   ],
   "source": [
    "type(database)"
   ]
  },
  {
   "cell_type": "code",
   "execution_count": null,
   "metadata": {},
   "outputs": [],
   "source": []
  },
  {
   "cell_type": "code",
   "execution_count": 1,
   "metadata": {},
   "outputs": [],
   "source": [
    "from redplanet import Craters"
   ]
  },
  {
   "cell_type": "code",
   "execution_count": 2,
   "metadata": {},
   "outputs": [],
   "source": [
    "henry = Craters.get('henry')"
   ]
  },
  {
   "cell_type": "code",
   "execution_count": 3,
   "metadata": {},
   "outputs": [
    {
     "data": {
      "text/plain": [
       "2.9770449999999995"
      ]
     },
     "execution_count": 3,
     "metadata": {},
     "output_type": "execute_result"
    }
   ],
   "source": [
    "from redplanet import utils\n",
    "rad = utils.km2theta(henry['diameter_km'])\n",
    "rad"
   ]
  }
 ],
 "metadata": {
  "kernelspec": {
   "display_name": "Python 3",
   "language": "python",
   "name": "python3"
  },
  "language_info": {
   "codemirror_mode": {
    "name": "ipython",
    "version": 3
   },
   "file_extension": ".py",
   "mimetype": "text/x-python",
   "name": "python",
   "nbconvert_exporter": "python",
   "pygments_lexer": "ipython3",
   "version": "3.11.4"
  },
  "orig_nbformat": 4
 },
 "nbformat": 4,
 "nbformat_minor": 2
}
